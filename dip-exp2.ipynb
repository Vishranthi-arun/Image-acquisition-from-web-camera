{
 "cells": [
  {
   "cell_type": "code",
   "execution_count": 1,
   "id": "77c18b99",
   "metadata": {},
   "outputs": [],
   "source": [
    "# import pakages\n",
    "import pandas as pd\n",
    "import cv2\n",
    "import numpy as np"
   ]
  },
  {
   "cell_type": "code",
   "execution_count": null,
   "id": "da41915e",
   "metadata": {},
   "outputs": [],
   "source": [
    "# write the frame as jpg file\n",
    "import cv2\n",
    "cam = cv2.VideoCapture(0)\n",
    "while(True):\n",
    "    ret,frame = cam.read()\n",
    "    cv2.imwrite(\"pic.jpg\",frame)\n",
    "    result = False\n",
    "cam.release()\n",
    "cv2.destroyAllWindows()"
   ]
  },
  {
   "cell_type": "code",
   "execution_count": 2,
   "id": "5ab957fa",
   "metadata": {},
   "outputs": [],
   "source": [
    "# Display video\n",
    "videoCaptureObject=cv2.VideoCapture(0)\n",
    "while(True):\n",
    "    ret,frame=videoCaptureObject.read()\n",
    "    cv2.imshow('image',frame)\n",
    "    if cv2.waitKey(1) == ord('q'):\n",
    "        break\n",
    "videoCaptureObject.release()\n",
    "cv2.destroyAllWindows()"
   ]
  },
  {
   "cell_type": "code",
   "execution_count": 3,
   "id": "bb4fbfa5",
   "metadata": {},
   "outputs": [],
   "source": [
    "# resize the window\n",
    "cap = cv2.VideoCapture (0)\n",
    "while True:\n",
    "    ret,frame = cap.read()\n",
    "    width = int(cap.get(3))\n",
    "    height = int (cap.get(4)) \n",
    "    image = np.zeros(frame. shape, np. uint8)\n",
    "    smaller_frame = cv2.resize(frame, (0,0), fx = 0.5, fy=0.5)\n",
    "    image[:height//2, :width//2] = smaller_frame\n",
    "    image [height//2:, :width//2] = smaller_frame \n",
    "    image[:height//2, width//2:] = smaller_frame\n",
    "    image [height//2:, width//2:] = smaller_frame\n",
    "    cv2.imshow('myimage', image)\n",
    "    if cv2.waitKey(1) == ord('q'):\n",
    "        break\n",
    "cap.release()\n",
    "cv2.destroyAllWindows()"
   ]
  },
  {
   "cell_type": "code",
   "execution_count": 7,
   "id": "a0c2a019",
   "metadata": {},
   "outputs": [],
   "source": [
    "# Rotate and display\n",
    "import numpy as np\n",
    "import cv2\n",
    "cap = cv2.VideoCapture(0)\n",
    "\n",
    "while True:\n",
    "    ret, frame = cap.read()\n",
    "    width = int(cap.get(3))\n",
    "    height = int(cap.get(4))\n",
    "    \n",
    "    image = np.zeros(frame.shape, np.uint8)\n",
    "    smaller_frame = cv2.resize(frame, (0,0), fx = 0.5, fy=0.5)\n",
    "    image[:height//2, :width//2] = cv2.rotate(smaller_frame,cv2.ROTATE_180)\n",
    "    image[height//2:,: width//2] = cv2.rotate(smaller_frame,cv2.ROTATE_180)\n",
    "    image[height//2:, width//2:] = smaller_frame\n",
    "    image[:height//2, width//2:] = smaller_frame\n",
    "    cv2.imshow('frame', image)\n",
    "    if cv2.waitKey(1) == ord('q'):\n",
    "        break\n",
    "cap.release()\n",
    "cv2.destroyAllWindows()\n"
   ]
  },
  {
   "cell_type": "code",
   "execution_count": null,
   "id": "30a2d463",
   "metadata": {},
   "outputs": [],
   "source": []
  }
 ],
 "metadata": {
  "kernelspec": {
   "display_name": "Python 3 (ipykernel)",
   "language": "python",
   "name": "python3"
  },
  "language_info": {
   "codemirror_mode": {
    "name": "ipython",
    "version": 3
   },
   "file_extension": ".py",
   "mimetype": "text/x-python",
   "name": "python",
   "nbconvert_exporter": "python",
   "pygments_lexer": "ipython3",
   "version": "3.9.13"
  }
 },
 "nbformat": 4,
 "nbformat_minor": 5
}
